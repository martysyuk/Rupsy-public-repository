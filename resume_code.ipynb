{
 "cells": [
  {
   "cell_type": "markdown",
   "metadata": {},
   "source": [
    "*** Тестовые задания Python *** "
   ]
  },
  {
   "cell_type": "markdown",
   "metadata": {},
   "source": [
    "Задание 1: Необходимо поменять местами значения в переменных: a = 5; b = 12."
   ]
  },
  {
   "cell_type": "code",
   "execution_count": 6,
   "metadata": {},
   "outputs": [
    {
     "name": "stdout",
     "output_type": "stream",
     "text": [
      "15 : 5\n"
     ]
    }
   ],
   "source": [
    "a = 5\n",
    "b = 15\n",
    "a, b = b, a\n",
    "\n",
    "print('{} : {}'.format(a, b))"
   ]
  },
  {
   "cell_type": "markdown",
   "metadata": {},
   "source": [
    "Задание 2: Написать функцию, которая во входных параметрах принимает строку и возвращает инверсию этой строки в верхнем регистре. Например, для входной строки ‘Hello World’ результат должен быть ‘DLROW OLLEH’"
   ]
  },
  {
   "cell_type": "code",
   "execution_count": 5,
   "metadata": {},
   "outputs": [
    {
     "name": "stdout",
     "output_type": "stream",
     "text": [
      "DLROW OLLEH\n"
     ]
    }
   ],
   "source": [
    "def uppsercase_and_revers(text):\n",
    "        return text[::-1].upper()\n",
    "\n",
    "print(uppsercase_and_revers('Hello world'))"
   ]
  },
  {
   "cell_type": "markdown",
   "metadata": {},
   "source": [
    "Задание 3: Написать функцию, которая во входных параметрах принимает строку с текстом. Функция должна возвращать количество слов и предложений в строке. Условимся, что слова разбиваются одним пробелом, a конец строки обозначается символом ‘.’"
   ]
  },
  {
   "cell_type": "code",
   "execution_count": 4,
   "metadata": {},
   "outputs": [
    {
     "name": "stdout",
     "output_type": "stream",
     "text": [
      "Слов:  10\nПредложений:  2\n"
     ]
    }
   ],
   "source": [
    "def count_word_and_sentence(_string):\n",
    "    print('Слов: ', len(_string.split()))\n",
    "    print('Предложений: ', _string.count('.'))\n",
    "    \n",
    "count_word_and_sentence(\"Тестовое строка. В ней ровно десять слов и два предложения.\")"
   ]
  },
  {
   "cell_type": "markdown",
   "metadata": {},
   "source": [
    "Задане 4: Написать функцию, которая принимает от пользователя число, а возвращает сумму и произведение его цифр."
   ]
  },
  {
   "cell_type": "code",
   "execution_count": 8,
   "metadata": {},
   "outputs": [
    {
     "name": "stdout",
     "output_type": "stream",
     "text": [
      "(15, 120)\n"
     ]
    }
   ],
   "source": [
    "a = '12345'\n",
    "\n",
    "\n",
    "def sum_and_mult(_numbers):\n",
    "    _sum = sum(map(lambda i: int(i), list(_numbers)))\n",
    "    _mult = 1\n",
    "    for i in list(_numbers):\n",
    "        _mult *= int(i)\n",
    "    return _sum, _mult\n",
    "\n",
    "print(sum_and_mult(a))"
   ]
  }
 ],
 "metadata": {
  "kernelspec": {
   "display_name": "Python 2",
   "language": "python",
   "name": "python2"
  },
  "language_info": {
   "codemirror_mode": {
    "name": "ipython",
    "version": 2.0
   },
   "file_extension": ".py",
   "mimetype": "text/x-python",
   "name": "python",
   "nbconvert_exporter": "python",
   "pygments_lexer": "ipython2",
   "version": "2.7.6"
  }
 },
 "nbformat": 4,
 "nbformat_minor": 0
}